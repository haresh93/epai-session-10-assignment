{
 "cells": [
  {
   "cell_type": "code",
   "metadata": {
    "tags": [],
    "cell_id": "00000-95bef99d-4357-4594-9b35-f75edafe2041",
    "deepnote_to_be_reexecuted": false,
    "source_hash": "39c537f",
    "execution_start": 1626495051550,
    "execution_millis": 14,
    "deepnote_cell_type": "code"
   },
   "source": "from polygon import Polygon\nfrom polygon_sequence import PolygonSequence",
   "execution_count": 1,
   "outputs": []
  },
  {
   "cell_type": "markdown",
   "source": "## Polygon",
   "metadata": {
    "tags": [],
    "is_collapsed": false,
    "cell_id": "00001-73fd7009-9e4d-436a-acd4-6487f7cdd53d",
    "deepnote_cell_type": "text-cell-h2"
   }
  },
  {
   "cell_type": "code",
   "source": "p1 = Polygon(5, 20)\n\nprint(repr(p1))",
   "metadata": {
    "tags": [],
    "cell_id": "00001-221265a5-561e-4512-a234-3451edd887b5",
    "deepnote_to_be_reexecuted": false,
    "source_hash": "df9b2135",
    "execution_start": 1626495051572,
    "execution_millis": 2,
    "deepnote_cell_type": "code"
   },
   "outputs": [
    {
     "name": "stdout",
     "text": " A Polygon Object with the properties: \n         - Num of Edges : 5\n         - Num of Vertices : 5\n         - interior_angle : 108.0\n         - edge_length : 23.511410091698927\n         - apothem : 16.18033988749895\n         - area : 951.0565162951538\n         - perimeter : 117.55705045849464\n",
     "output_type": "stream"
    }
   ],
   "execution_count": 2
  },
  {
   "cell_type": "code",
   "source": "p2 = Polygon(5, 20)\n\np1 == p2",
   "metadata": {
    "tags": [],
    "cell_id": "00002-506c5ce0-ec64-40c5-808f-bd4edd6ddc82",
    "deepnote_to_be_reexecuted": false,
    "source_hash": "ba7952f3",
    "execution_start": 1626495051626,
    "execution_millis": 7,
    "deepnote_cell_type": "code"
   },
   "outputs": [
    {
     "output_type": "execute_result",
     "execution_count": 3,
     "data": {
      "text/plain": "True"
     },
     "metadata": {}
    }
   ],
   "execution_count": 3
  },
  {
   "cell_type": "code",
   "source": "p3 = Polygon(6, 30)\n\np3 > p1",
   "metadata": {
    "tags": [],
    "cell_id": "00003-b9ff1226-ac22-4a70-8dcd-905de7136156",
    "deepnote_to_be_reexecuted": false,
    "source_hash": "1ea139f0",
    "execution_start": 1626495051627,
    "execution_millis": 6,
    "deepnote_cell_type": "code"
   },
   "outputs": [
    {
     "output_type": "execute_result",
     "execution_count": 4,
     "data": {
      "text/plain": "True"
     },
     "metadata": {}
    }
   ],
   "execution_count": 4
  },
  {
   "cell_type": "markdown",
   "source": "## Polygon Sequence",
   "metadata": {
    "tags": [],
    "is_collapsed": false,
    "cell_id": "00005-56a410c1-a609-4e6a-a44f-4d9e19f45973",
    "deepnote_cell_type": "text-cell-h2"
   }
  },
  {
   "cell_type": "code",
   "source": "p_seq = PolygonSequence(25, 30)\n\nprint(repr(p_seq))",
   "metadata": {
    "tags": [],
    "cell_id": "00004-05bc1f82-550b-4806-895e-ba80b038a28c",
    "deepnote_to_be_reexecuted": false,
    "source_hash": "7f0edc9c",
    "execution_start": 1626495051670,
    "execution_millis": 8,
    "deepnote_cell_type": "code"
   },
   "outputs": [
    {
     "name": "stdout",
     "text": "\n            A Polygon sequence Object with the following properties\n                length_of_the_sequence - 23 \n                max_num_of_vertices    - 25\n                circum_radius          - 30\n                max_efficiency_polygon - 25\n        \n",
     "output_type": "stream"
    }
   ],
   "execution_count": 5
  },
  {
   "cell_type": "code",
   "source": "max(p_seq)",
   "metadata": {
    "tags": [],
    "cell_id": "00007-2c9d3597-22dd-4551-b232-b35e47279ead",
    "deepnote_to_be_reexecuted": false,
    "source_hash": "3f9595a3",
    "execution_start": 1626495130549,
    "execution_millis": 2,
    "deepnote_cell_type": "code"
   },
   "outputs": [
    {
     "output_type": "execute_result",
     "execution_count": 6,
     "data": {
      "text/plain": " A Polygon Object with the properties: \n         - Num of Edges : 25\n         - Num of Vertices : 25\n         - interior_angle : 165.6\n         - edge_length : 7.5199940138582555\n         - apothem : 29.763441039434337\n         - area : 2797.7612306046167\n         - perimeter : 187.99985034645638"
     },
     "metadata": {}
    }
   ],
   "execution_count": 6
  },
  {
   "cell_type": "code",
   "source": "min(p_seq)",
   "metadata": {
    "tags": [],
    "cell_id": "00008-6f261e14-8fa1-4187-9a8a-fb9ce2248114",
    "deepnote_to_be_reexecuted": false,
    "source_hash": "8e17a6b8",
    "execution_start": 1626495137581,
    "execution_millis": 15,
    "deepnote_cell_type": "code"
   },
   "outputs": [
    {
     "output_type": "execute_result",
     "execution_count": 7,
     "data": {
      "text/plain": " A Polygon Object with the properties: \n         - Num of Edges : 3\n         - Num of Vertices : 3\n         - interior_angle : 60.0\n         - edge_length : 51.96152422706631\n         - apothem : 15.000000000000004\n         - area : 1169.1342951089923\n         - perimeter : 155.88457268119893"
     },
     "metadata": {}
    }
   ],
   "execution_count": 7
  },
  {
   "cell_type": "code",
   "source": "p_seq[10]",
   "metadata": {
    "tags": [],
    "cell_id": "00009-30aa17f7-657b-4ac1-b447-dea2b3a44210",
    "deepnote_to_be_reexecuted": false,
    "source_hash": "54fba180",
    "execution_start": 1626495148119,
    "execution_millis": 8,
    "deepnote_cell_type": "code"
   },
   "outputs": [
    {
     "output_type": "execute_result",
     "execution_count": 8,
     "data": {
      "text/plain": " A Polygon Object with the properties: \n         - Num of Edges : 13\n         - Num of Vertices : 13\n         - interior_angle : 152.30769230769232\n         - edge_length : 14.358939857253464\n         - apothem : 29.12825452278156\n         - area : 2718.6305564560457\n         - perimeter : 186.66621814429504"
     },
     "metadata": {}
    }
   ],
   "execution_count": 8
  },
  {
   "cell_type": "code",
   "source": "p_seq.max_efficiency_polygon()",
   "metadata": {
    "tags": [],
    "cell_id": "00010-0c863c5b-ccd7-4fb3-bd21-5e26c5e575de",
    "deepnote_to_be_reexecuted": false,
    "source_hash": "48c8022e",
    "execution_start": 1626495160520,
    "execution_millis": 14,
    "deepnote_cell_type": "code"
   },
   "outputs": [
    {
     "output_type": "execute_result",
     "execution_count": 9,
     "data": {
      "text/plain": "25"
     },
     "metadata": {}
    }
   ],
   "execution_count": 9
  },
  {
   "cell_type": "code",
   "source": "",
   "metadata": {
    "tags": [],
    "cell_id": "00011-bce7e88b-6dc0-43d0-b5aa-4850a732ae01",
    "deepnote_cell_type": "code"
   },
   "outputs": [],
   "execution_count": null
  },
  {
   "cell_type": "markdown",
   "source": "<a style='text-decoration:none;line-height:16px;display:flex;color:#5B5B62;padding:10px;justify-content:end;' href='https://deepnote.com?utm_source=created-in-deepnote-cell&projectId=0f7cff98-1885-425d-9238-8870ef2bdbd4' target=\"_blank\">\n<img alt='Created in deepnote.com' style='display:inline;max-height:16px;margin:0px;margin-right:7.5px;' src='data:image/svg+xml;base64,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' > </img>\nCreated in <span style='font-weight:600;margin-left:4px;'>Deepnote</span></a>",
   "metadata": {
    "tags": [],
    "created_in_deepnote_cell": true,
    "deepnote_cell_type": "markdown"
   }
  }
 ],
 "nbformat": 4,
 "nbformat_minor": 2,
 "metadata": {
  "orig_nbformat": 2,
  "deepnote": {
   "is_reactive": false
  },
  "deepnote_notebook_id": "eeb958b3-cbc7-4ee0-9556-36b200563173",
  "deepnote_execution_queue": []
 }
}